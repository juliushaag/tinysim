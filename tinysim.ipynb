{
 "cells": [
  {
   "cell_type": "code",
   "execution_count": 1,
   "metadata": {},
   "outputs": [
    {
     "name": "stdout",
     "output_type": "stream",
     "text": [
      "['__class__', '__copy__', '__deepcopy__', '__delattr__', '__dir__', '__doc__', '__eq__', '__format__', '__ge__', '__getattribute__', '__getstate__', '__gt__', '__hash__', '__init__', '__init_subclass__', '__le__', '__lt__', '__module__', '__ne__', '__new__', '__reduce__', '__reduce_ex__', '__repr__', '__setattr__', '__setstate__', '__sizeof__', '__str__', '__subclasshook__', '_address', '_from_spec_ptr', '_pybind11_conduit_v1_', '_size_fields', '_sizes', 'actuator', 'actuator_acc0', 'actuator_actadr', 'actuator_actearly', 'actuator_actlimited', 'actuator_actnum', 'actuator_actrange', 'actuator_biasprm', 'actuator_biastype', 'actuator_cranklength', 'actuator_ctrllimited', 'actuator_ctrlrange', 'actuator_dynprm', 'actuator_dyntype', 'actuator_forcelimited', 'actuator_forcerange', 'actuator_gainprm', 'actuator_gaintype', 'actuator_gear', 'actuator_group', 'actuator_length0', 'actuator_lengthrange', 'actuator_plugin', 'actuator_trnid', 'actuator_trntype', 'actuator_user', 'body', 'body_bvhadr', 'body_bvhnum', 'body_conaffinity', 'body_contype', 'body_dofadr', 'body_dofnum', 'body_geomadr', 'body_geomnum', 'body_gravcomp', 'body_inertia', 'body_invweight0', 'body_ipos', 'body_iquat', 'body_jntadr', 'body_jntnum', 'body_margin', 'body_mass', 'body_mocapid', 'body_parentid', 'body_plugin', 'body_pos', 'body_quat', 'body_rootid', 'body_sameframe', 'body_simple', 'body_subtreemass', 'body_treeid', 'body_user', 'body_weldid', 'bvh_aabb', 'bvh_child', 'bvh_depth', 'bvh_nodeid', 'cam', 'cam_bodyid', 'cam_fovy', 'cam_intrinsic', 'cam_ipd', 'cam_mat0', 'cam_mode', 'cam_orthographic', 'cam_pos', 'cam_pos0', 'cam_poscom0', 'cam_quat', 'cam_resolution', 'cam_sensorsize', 'cam_targetbodyid', 'cam_user', 'camera', 'dof_M0', 'dof_Madr', 'dof_armature', 'dof_bodyid', 'dof_damping', 'dof_frictionloss', 'dof_invweight0', 'dof_jntid', 'dof_parentid', 'dof_simplenum', 'dof_solimp', 'dof_solref', 'dof_treeid', 'eq', 'eq_active0', 'eq_data', 'eq_obj1id', 'eq_obj2id', 'eq_objtype', 'eq_solimp', 'eq_solref', 'eq_type', 'equality', 'exclude', 'exclude_signature', 'flex_activelayers', 'flex_bvhadr', 'flex_bvhnum', 'flex_centered', 'flex_conaffinity', 'flex_condim', 'flex_contype', 'flex_damping', 'flex_dim', 'flex_edge', 'flex_edgeadr', 'flex_edgedamping', 'flex_edgeequality', 'flex_edgenum', 'flex_edgestiffness', 'flex_elem', 'flex_elemadr', 'flex_elemdataadr', 'flex_elemedge', 'flex_elemedgeadr', 'flex_elemlayer', 'flex_elemnum', 'flex_evpair', 'flex_evpairadr', 'flex_evpairnum', 'flex_flatskin', 'flex_friction', 'flex_gap', 'flex_group', 'flex_internal', 'flex_margin', 'flex_matid', 'flex_priority', 'flex_radius', 'flex_rgba', 'flex_rigid', 'flex_selfcollide', 'flex_shell', 'flex_shelldataadr', 'flex_shellnum', 'flex_solimp', 'flex_solmix', 'flex_solref', 'flex_stiffness', 'flex_texcoord', 'flex_texcoordadr', 'flex_vert', 'flex_vert0', 'flex_vertadr', 'flex_vertbodyid', 'flex_vertnum', 'flexedge_invweight0', 'flexedge_length0', 'flexedge_rigid', 'from_binary_path', 'from_xml_path', 'from_xml_string', 'geom', 'geom_aabb', 'geom_bodyid', 'geom_conaffinity', 'geom_condim', 'geom_contype', 'geom_dataid', 'geom_fluid', 'geom_friction', 'geom_gap', 'geom_group', 'geom_margin', 'geom_matid', 'geom_plugin', 'geom_pos', 'geom_priority', 'geom_quat', 'geom_rbound', 'geom_rgba', 'geom_sameframe', 'geom_size', 'geom_solimp', 'geom_solmix', 'geom_solref', 'geom_type', 'geom_user', 'hfield', 'hfield_adr', 'hfield_data', 'hfield_ncol', 'hfield_nrow', 'hfield_pathadr', 'hfield_size', 'jnt', 'jnt_actfrclimited', 'jnt_actfrcrange', 'jnt_actgravcomp', 'jnt_axis', 'jnt_bodyid', 'jnt_dofadr', 'jnt_group', 'jnt_limited', 'jnt_margin', 'jnt_pos', 'jnt_qposadr', 'jnt_range', 'jnt_solimp', 'jnt_solref', 'jnt_stiffness', 'jnt_type', 'jnt_user', 'joint', 'key', 'key_act', 'key_ctrl', 'key_mpos', 'key_mquat', 'key_qpos', 'key_qvel', 'key_time', 'keyframe', 'light', 'light_active', 'light_ambient', 'light_attenuation', 'light_bodyid', 'light_bulbradius', 'light_castshadow', 'light_cutoff', 'light_diffuse', 'light_dir', 'light_dir0', 'light_directional', 'light_exponent', 'light_mode', 'light_pos', 'light_pos0', 'light_poscom0', 'light_specular', 'light_targetbodyid', 'mat', 'mat_emission', 'mat_metallic', 'mat_reflectance', 'mat_rgba', 'mat_roughness', 'mat_shininess', 'mat_specular', 'mat_texid', 'mat_texrepeat', 'mat_texuniform', 'material', 'mesh', 'mesh_bvhadr', 'mesh_bvhnum', 'mesh_face', 'mesh_faceadr', 'mesh_facenormal', 'mesh_facenum', 'mesh_facetexcoord', 'mesh_graph', 'mesh_graphadr', 'mesh_normal', 'mesh_normaladr', 'mesh_normalnum', 'mesh_pathadr', 'mesh_pos', 'mesh_quat', 'mesh_scale', 'mesh_texcoord', 'mesh_texcoordadr', 'mesh_texcoordnum', 'mesh_vert', 'mesh_vertadr', 'mesh_vertnum', 'nB', 'nC', 'nD', 'nM', 'na', 'name_actuatoradr', 'name_bodyadr', 'name_camadr', 'name_eqadr', 'name_excludeadr', 'name_flexadr', 'name_geomadr', 'name_hfieldadr', 'name_jntadr', 'name_keyadr', 'name_lightadr', 'name_matadr', 'name_meshadr', 'name_numericadr', 'name_pairadr', 'name_pluginadr', 'name_sensoradr', 'name_siteadr', 'name_skinadr', 'name_tendonadr', 'name_texadr', 'name_textadr', 'name_tupleadr', 'names', 'names_map', 'narena', 'nbody', 'nbuffer', 'nbvh', 'nbvhdynamic', 'nbvhstatic', 'ncam', 'nconmax', 'nemax', 'neq', 'nexclude', 'nflex', 'nflexedge', 'nflexelem', 'nflexelemdata', 'nflexelemedge', 'nflexevpair', 'nflexshelldata', 'nflextexcoord', 'nflexvert', 'ngeom', 'ngravcomp', 'nhfield', 'nhfielddata', 'njmax', 'njnt', 'nkey', 'nlight', 'nmat', 'nmesh', 'nmeshface', 'nmeshgraph', 'nmeshnormal', 'nmeshtexcoord', 'nmeshvert', 'nmocap', 'nnames', 'nnames_map', 'nnumeric', 'nnumericdata', 'npair', 'npaths', 'nplugin', 'npluginattr', 'npluginstate', 'nq', 'nsensor', 'nsensordata', 'nsite', 'nskin', 'nskinbone', 'nskinbonevert', 'nskinface', 'nskintexvert', 'nskinvert', 'ntendon', 'ntex', 'ntexdata', 'ntext', 'ntextdata', 'ntree', 'ntuple', 'ntupledata', 'nu', 'numeric', 'numeric_adr', 'numeric_data', 'numeric_size', 'nuser_actuator', 'nuser_body', 'nuser_cam', 'nuser_geom', 'nuser_jnt', 'nuser_sensor', 'nuser_site', 'nuser_tendon', 'nuserdata', 'nv', 'nwrap', 'opt', 'pair', 'pair_dim', 'pair_friction', 'pair_gap', 'pair_geom1', 'pair_geom2', 'pair_margin', 'pair_signature', 'pair_solimp', 'pair_solref', 'pair_solreffriction', 'paths', 'plugin', 'plugin_attr', 'plugin_attradr', 'plugin_stateadr', 'plugin_statenum', 'qpos0', 'qpos_spring', 'sensor', 'sensor_adr', 'sensor_cutoff', 'sensor_datatype', 'sensor_dim', 'sensor_needstage', 'sensor_noise', 'sensor_objid', 'sensor_objtype', 'sensor_plugin', 'sensor_refid', 'sensor_reftype', 'sensor_type', 'sensor_user', 'site', 'site_bodyid', 'site_group', 'site_matid', 'site_pos', 'site_quat', 'site_rgba', 'site_sameframe', 'site_size', 'site_type', 'site_user', 'skin', 'skin_boneadr', 'skin_bonebindpos', 'skin_bonebindquat', 'skin_bonebodyid', 'skin_bonenum', 'skin_bonevertadr', 'skin_bonevertid', 'skin_bonevertnum', 'skin_bonevertweight', 'skin_face', 'skin_faceadr', 'skin_facenum', 'skin_group', 'skin_inflate', 'skin_matid', 'skin_pathadr', 'skin_rgba', 'skin_texcoord', 'skin_texcoordadr', 'skin_vert', 'skin_vertadr', 'skin_vertnum', 'stat', 'tendon', 'tendon_adr', 'tendon_damping', 'tendon_frictionloss', 'tendon_group', 'tendon_invweight0', 'tendon_length0', 'tendon_lengthspring', 'tendon_limited', 'tendon_margin', 'tendon_matid', 'tendon_num', 'tendon_range', 'tendon_rgba', 'tendon_solimp_fri', 'tendon_solimp_lim', 'tendon_solref_fri', 'tendon_solref_lim', 'tendon_stiffness', 'tendon_user', 'tendon_width', 'tex', 'tex_adr', 'tex_data', 'tex_height', 'tex_nchannel', 'tex_pathadr', 'tex_type', 'tex_width', 'text_adr', 'text_data', 'text_size', 'texture', 'tuple', 'tuple_adr', 'tuple_objid', 'tuple_objprm', 'tuple_objtype', 'tuple_size', 'vis', 'wrap_objid', 'wrap_prm', 'wrap_type']\n"
     ]
    },
    {
     "ename": "AttributeError",
     "evalue": "type object 'Simulation' has no attribute 'from_mj'",
     "output_type": "error",
     "traceback": [
      "\u001b[0;31m---------------------------------------------------------------------------\u001b[0m",
      "\u001b[0;31mAttributeError\u001b[0m                            Traceback (most recent call last)",
      "Cell \u001b[0;32mIn[1], line 11\u001b[0m\n\u001b[1;32m      7\u001b[0m scene \u001b[38;5;241m=\u001b[39m ts\u001b[38;5;241m.\u001b[39mload_scene(\u001b[38;5;124m\"\u001b[39m\u001b[38;5;124mdesk\u001b[39m\u001b[38;5;124m\"\u001b[39m)\n\u001b[1;32m      9\u001b[0m scene\u001b[38;5;241m.\u001b[39mattach(panda_rb)\n\u001b[0;32m---> 11\u001b[0m sim \u001b[38;5;241m=\u001b[39m \u001b[43mts\u001b[49m\u001b[38;5;241;43m.\u001b[39;49m\u001b[43msimulate\u001b[49m\u001b[43m(\u001b[49m\u001b[43mscene\u001b[49m\u001b[43m)\u001b[49m\n",
      "File \u001b[0;32m~/dev/tinysim/tinysim/core/simulation.py:8\u001b[0m, in \u001b[0;36msimulate\u001b[0;34m(scene)\u001b[0m\n\u001b[1;32m      7\u001b[0m \u001b[38;5;28;01mdef\u001b[39;00m \u001b[38;5;21msimulate\u001b[39m(scene : Scene):\n\u001b[0;32m----> 8\u001b[0m   \u001b[38;5;28;01mreturn\u001b[39;00m \u001b[43mSimulation\u001b[49m\u001b[38;5;241;43m.\u001b[39;49m\u001b[43mfrom_scene\u001b[49m\u001b[43m(\u001b[49m\u001b[43mscene\u001b[49m\u001b[43m)\u001b[49m\n",
      "File \u001b[0;32m~/dev/tinysim/tinysim/core/simulation.py:17\u001b[0m, in \u001b[0;36mSimulation.from_scene\u001b[0;34m(cls, scene, **kwargs)\u001b[0m\n\u001b[1;32m     15\u001b[0m mj_model \u001b[38;5;241m=\u001b[39m scene\u001b[38;5;241m.\u001b[39mcompile()\n\u001b[1;32m     16\u001b[0m mj_data \u001b[38;5;241m=\u001b[39m mj\u001b[38;5;241m.\u001b[39mMjData(mj_model)\n\u001b[0;32m---> 17\u001b[0m \u001b[38;5;28;01mreturn\u001b[39;00m \u001b[38;5;28;43mcls\u001b[39;49m\u001b[38;5;241;43m.\u001b[39;49m\u001b[43mfrom_mj\u001b[49m(mj_model, mj_data, \u001b[38;5;241m*\u001b[39m\u001b[38;5;241m*\u001b[39mkwargs)\n",
      "\u001b[0;31mAttributeError\u001b[0m: type object 'Simulation' has no attribute 'from_mj'"
     ]
    }
   ],
   "source": [
    "import tinysim as ts\n",
    "\n",
    "ts.set_seed(0)\n",
    "\n",
    "\n",
    "panda_rb = ts.load_robot(\"panda\")\n",
    "scene = ts.load_scene(\"desk\")\n",
    "\n",
    "scene.attach(panda_rb)\n",
    "\n",
    "sim = ts.simulate(scene)\n",
    "\n"
   ]
  },
  {
   "cell_type": "code",
   "execution_count": null,
   "metadata": {},
   "outputs": [],
   "source": []
  }
 ],
 "metadata": {
  "kernelspec": {
   "display_name": "tinysim",
   "language": "python",
   "name": "python3"
  },
  "language_info": {
   "codemirror_mode": {
    "name": "ipython",
    "version": 3
   },
   "file_extension": ".py",
   "mimetype": "text/x-python",
   "name": "python",
   "nbconvert_exporter": "python",
   "pygments_lexer": "ipython3",
   "version": "3.12.7"
  }
 },
 "nbformat": 4,
 "nbformat_minor": 2
}
